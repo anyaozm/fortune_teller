{
 "cells": [
  {
   "cell_type": "code",
   "execution_count": 1,
   "metadata": {},
   "outputs": [],
   "source": [
    "import random"
   ]
  },
  {
   "cell_type": "code",
   "execution_count": 3,
   "metadata": {},
   "outputs": [],
   "source": [
    "def getAnswer(answer_number):\n",
    "    if answer_number == 1:\n",
    "        return 'Yes'\n",
    "    if answer_number == 2:\n",
    "        return 'No'\n",
    "    if answer_number == 3:\n",
    "        return 'Maybe'\n",
    "    if answer_number == 4:\n",
    "        return 'Go for it'"
   ]
  },
  {
   "cell_type": "code",
   "execution_count": 4,
   "metadata": {},
   "outputs": [
    {
     "name": "stdout",
     "output_type": "stream",
     "text": [
      "Try Again\n"
     ]
    }
   ],
   "source": [
    "r = random.randint(1,4)\n",
    "fortune = getAnswer(r)\n",
    "print(fortune)"
   ]
  },
  {
   "cell_type": "code",
   "execution_count": 5,
   "metadata": {},
   "outputs": [],
   "source": [
    "import numpy as np"
   ]
  },
  {
   "cell_type": "code",
   "execution_count": 11,
   "metadata": {},
   "outputs": [],
   "source": [
    "def getfortune(answer):\n",
    "    if answer == 1:\n",
    "        return 'A'\n",
    "    if answer == 2:\n",
    "        return 'B'\n",
    "    if answer == 3:\n",
    "        return 'C'\n",
    "    if answer == 4:\n",
    "        return 'D'\n",
    "    else :\n",
    "        return 'why are you guessing in your test?'"
   ]
  },
  {
   "cell_type": "code",
   "execution_count": 12,
   "metadata": {},
   "outputs": [
    {
     "name": "stdout",
     "output_type": "stream",
     "text": [
      "why are you guessing in your test?\n"
     ]
    }
   ],
   "source": [
    "r = np.random.randint(1,15)\n",
    "key = getfortune(r)\n",
    "print(key)"
   ]
  },
  {
   "cell_type": "code",
   "execution_count": null,
   "metadata": {},
   "outputs": [],
   "source": []
  }
 ],
 "metadata": {
  "kernelspec": {
   "display_name": "Python 3",
   "language": "python",
   "name": "python3"
  },
  "language_info": {
   "codemirror_mode": {
    "name": "ipython",
    "version": 3
   },
   "file_extension": ".py",
   "mimetype": "text/x-python",
   "name": "python",
   "nbconvert_exporter": "python",
   "pygments_lexer": "ipython3",
   "version": "3.6.4"
  }
 },
 "nbformat": 4,
 "nbformat_minor": 2
}
